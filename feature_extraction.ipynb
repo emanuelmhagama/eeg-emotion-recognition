{
 "cells": [
  {
   "cell_type": "code",
   "id": "initial_id",
   "metadata": {
    "collapsed": true,
    "ExecuteTime": {
     "end_time": "2024-10-18T08:58:11.416422Z",
     "start_time": "2024-10-18T08:58:11.412964Z"
    }
   },
   "source": "# -*- coding: utf-8 -*-",
   "execution_count": 1,
   "outputs": []
  },
  {
   "metadata": {},
   "cell_type": "markdown",
   "source": "### Imports",
   "id": "9ac7323b6107b593"
  },
  {
   "metadata": {
    "ExecuteTime": {
     "end_time": "2024-10-18T09:20:46.669478Z",
     "start_time": "2024-10-18T09:20:44.310496Z"
    }
   },
   "cell_type": "code",
   "source": [
    "import numpy as np\n",
    "import  pandas as pd\n",
    "import matplotlib.pyplot as plt\n",
    "from scipy.stats import kurtosis, skew\n",
    "from datetime import datetime\n",
    "from sklearn.decomposition import PCA\n",
    "import traceback\n"
   ],
   "id": "db6cf90e7725e994",
   "execution_count": 2,
   "outputs": []
  },
  {
   "metadata": {},
   "cell_type": "markdown",
   "source": "### Loading Data",
   "id": "3568f204cb8040eb"
  },
  {
   "metadata": {
    "ExecuteTime": {
     "end_time": "2024-10-18T09:20:46.672965Z",
     "start_time": "2024-10-18T09:20:46.670476Z"
    }
   },
   "cell_type": "code",
   "source": "print(\"************************* {} : STARTING FEATURE EXTRACTION **********************\".format(datetime.now()))\n",
   "id": "4c23c08b3e474b70",
   "execution_count": 3,
   "outputs": []
  },
  {
   "metadata": {
    "ExecuteTime": {
     "end_time": "2024-10-18T14:14:34.745224Z",
     "start_time": "2024-10-18T14:14:34.724072Z"
    }
   },
   "cell_type": "code",
   "source": [
    "def save_np_to_csv(np_array, name):\n",
    "    \"\"\" Saves numpy array with 3D shape to 2D shape data as csv file, \"\"\"\n",
    "\n",
    "    reshaped = np_array.reshape(np_array.shape[0] * np_array.shape[1], np_array.shape[2])\n",
    "    print('{} : Saving {}'.format(datetime.now(), name))\n",
    "    np.savetxt('{}.csv'.format(name), reshaped, delimiter=',')\n",
    "    print('{} : Saved {}'.format(datetime.now(), name))\n",
    "\n",
    "\n",
    "def save_4d_np_to_csv(np_array, name):\n",
    "    \"\"\" Saves numpy array with 4D shape to 2D shape data as csv file, ()\"\"\"\n",
    "    \n",
    "    reshaped = np_array.reshape(np_array.shape[1] * np_array.shape[2] * np_array.shape[3], np_array.shape[0])\n",
    "    print('{} : Saving 4D numpy {}'.format(datetime.now(), name))\n",
    "    np.savetxt('{}.csv'.format(name), reshaped, delimiter=',')\n",
    "    print('{} : Saved 4D numpy {}'.format(datetime.now(), name))\n",
    "\n",
    "\n",
    "def read_csv_to_np(name):\n",
    "    \"\"\" Reads the csv file and changes it to 3D numpy array \"\"\"\n",
    "\n",
    "    print('{} : Reading {}'.format(datetime.now(), name))\n",
    "    np_data = np.loadtxt('{}.csv'.format(name), delimiter=',')\n",
    "    reshaped = np_data.reshape(225, 62, np_data.shape[1])\n",
    "    print('{} : Read {}'.format(datetime.now(), name))\n",
    "    return reshaped\n",
    "\n",
    "\n",
    "def read_csv_to_4d_np(name):\n",
    "    \"\"\" Reads the csv file and changes it to 4D numpy array \"\"\"\n",
    "\n",
    "    print('{} : Reading 4D numpy {}'.format(datetime.now(), name))\n",
    "    reshaped = []\n",
    "    try:\n",
    "        np_data = np.loadtxt('{}.csv'.format(name), delimiter=',')\n",
    "        print('{} : Shape {}'.format(datetime.now(), np_data.shape))\n",
    "        reshaped = np_data.reshape(np_data.shape[1], 4, 62, np_data.shape[0] // 248)\n",
    "        print('{} : Read 4D numpy {}'.format(datetime.now(), name))\n",
    "    except Exception as e:\n",
    "        print('{} : Error reading 4D numpy: {}'.format(datetime.now(), e))\n",
    "        traceback.print_exc()\n",
    "    return reshaped\n",
    "\n"
   ],
   "id": "998ec70f9f1066d7",
   "execution_count": 26,
   "outputs": []
  },
  {
   "metadata": {},
   "cell_type": "markdown",
   "source": [
    "# ### Plotting the Data\n",
    "\n",
    "# Assuming `data` is your EEG data with shape (trials, channels, time_points)\n",
    "def plot_eeg(data, title):\n",
    "    plt.figure(figsize=(10, 5))\n",
    "    plt.plot(data.T)  # Plotting the first channel\n",
    "    plt.title(title)\n",
    "    plt.xlabel('Time Points')\n",
    "    plt.ylabel('Voltage (µV)')\n",
    "    plt.savefig('{}.png'.format(title))\n",
    "    plt.show()\n",
    "\n"
   ],
   "id": "431ab7ccde62e39a"
  },
  {
   "metadata": {},
   "cell_type": "markdown",
   "source": "# ### Plotting Bands",
   "id": "f26828711d96b232"
  },
  {
   "metadata": {
    "ExecuteTime": {
     "end_time": "2024-10-18T09:00:34.127081Z",
     "start_time": "2024-10-18T08:58:13.524816Z"
    }
   },
   "cell_type": "code",
   "source": [
    "alpha_np = read_csv_to_np('Alpha')\n",
    "#plot_eeg(alpha_np[:, 0, :], 'EEG Data for Alpha Band Channel 1')"
   ],
   "id": "c2e42e32315263dd",
   "execution_count": 5,
   "outputs": []
  },
  {
   "metadata": {
    "ExecuteTime": {
     "end_time": "2024-10-18T09:03:01.965726Z",
     "start_time": "2024-10-18T09:00:34.186181Z"
    }
   },
   "cell_type": "code",
   "source": [
    "beta_np = read_csv_to_np('Beta')\n",
    "#plot_eeg(beta_np[:, 0, :], 'EEG Data for Beta Band Channel 1')"
   ],
   "id": "e379d027517fe22d",
   "execution_count": 6,
   "outputs": []
  },
  {
   "metadata": {
    "ExecuteTime": {
     "end_time": "2024-10-18T09:05:39.735275Z",
     "start_time": "2024-10-18T09:03:01.977239Z"
    }
   },
   "cell_type": "code",
   "source": [
    "theta_np = read_csv_to_np('Theta')\n",
    "#plot_eeg(theta_np[:, 0, :], 'EEG Data for Theta Band Channel 1')"
   ],
   "id": "ac93498e02acea0f",
   "execution_count": 7,
   "outputs": []
  },
  {
   "metadata": {
    "ExecuteTime": {
     "end_time": "2024-10-18T09:08:22.392444Z",
     "start_time": "2024-10-18T09:05:39.744231Z"
    }
   },
   "cell_type": "code",
   "source": [
    "gamma_np = read_csv_to_np('Gamma')\n",
    "#plot_eeg(gamma_np[:, 0, :], 'EEG Data for Gamma Band Channel 1')"
   ],
   "id": "102b3a5778b7f3fa",
   "execution_count": 8,
   "outputs": []
  },
  {
   "metadata": {},
   "cell_type": "markdown",
   "source": [
    "# ### Taking only 80s\n",
    "# Due to different data lengths of different channels for different samples, we take only the first 80s of the data\n",
    "# \n",
    "# **80s = 200 * 80 = 16,000 data points**"
   ],
   "id": "a2fbbc7edb2f567d"
  },
  {
   "metadata": {
    "ExecuteTime": {
     "end_time": "2024-10-18T09:08:22.418012Z",
     "start_time": "2024-10-18T09:08:22.398476Z"
    }
   },
   "cell_type": "code",
   "source": [
    "alpha_np_80s = alpha_np[:, :, :16000]\n",
    "beta_np_80s = beta_np[:, :, :16000]\n",
    "theta_np_80s = theta_np[:, :, :16000]\n",
    "gamma_np_80s = gamma_np[:, :, :16000]\n",
    "\n",
    "print('Alpha {}, Beta {}, Theta {}, Gamma {}'.format(alpha_np_80s.shape, beta_np_80s.shape, theta_np_80s.shape,\n",
    "                                                     gamma_np_80s.shape))\n",
    "\n"
   ],
   "id": "4633fc5e16a60b96",
   "execution_count": 9,
   "outputs": []
  },
  {
   "metadata": {},
   "cell_type": "markdown",
   "source": "# ### Sliding Windows and Feature Matrices",
   "id": "80ef092b676c1dc4"
  },
  {
   "metadata": {
    "ExecuteTime": {
     "start_time": "2024-10-18T09:08:22.421408Z"
    }
   },
   "cell_type": "code",
   "source": [
    "# Function to create sliding windows\n",
    "def create_feature_matrix(data, window_size, stride):\n",
    "    windows = []\n",
    "    pcc_matrices = []\n",
    "    mean_features = []\n",
    "    variance_features = []\n",
    "    kurtosis_features = []\n",
    "    skewness_features = []\n",
    "\n",
    "    # Loop over each trial\n",
    "    for trial_data in data:\n",
    "        # Loop through the data with the sliding window\n",
    "        for start in range(0, trial_data.shape[1] - window_size + 1, stride):\n",
    "            end = start + window_size\n",
    "            # Extract the window\n",
    "            window = trial_data[:, start:end]\n",
    "            windows.append(window)\n",
    "\n",
    "            #Extracting PCC features\n",
    "            pcc_matrices.append(np.corrcoef(window))\n",
    "\n",
    "            # Extracting statistical features across samples for each channel\n",
    "            mean_val = np.mean(window, axis=1)\n",
    "            mean_features.append(mean_val)\n",
    "\n",
    "            variance_val = np.var(window, axis=1)\n",
    "            variance_features.append(variance_val)\n",
    "\n",
    "            kurtosis_val = kurtosis(window, axis=1)\n",
    "            kurtosis_features.append(kurtosis_val)\n",
    "\n",
    "            skewness_val = skew(window, axis=1)\n",
    "            skewness_features.append(skewness_val)\n",
    "\n",
    "    sc_matrix = np.stack((np.array(mean_features), np.array(variance_features), np.array(kurtosis_features),\n",
    "                          np.array(skewness_features)), axis=2)\n",
    "    return np.array(windows), np.array(pcc_matrices), sc_matrix\n",
    "\n",
    "\n",
    "# Define time window sizes and strides\n",
    "window_size_8s = 1600  # 8 seconds -> (16000 / 80) * 8 -> 1600 time steps\n",
    "stride_4s = 800  # 4 seconds -> 800 time steps\n",
    "\n",
    "window_size_12s = 2400  # 12 seconds -> 2400 time steps\n",
    "stride_8s = 1600  # 8 seconds -> 1600 time steps\n",
    "\n",
    "# Create Alpha feature matrices\n",
    "print('{} : Creating Alpha Feature Matrices'.format(datetime.now()))\n",
    "alpha_window_matrix_8s, alpha_pcc_matrix_8s, alpha_sc_matrix_8s = create_feature_matrix(\n",
    "    alpha_np_80s, window_size_8s,\n",
    "    stride_4s)\n",
    "alpha_window_matrix_12s, alpha_pcc_matrix_12s, alpha_sc_matrix_12s = create_feature_matrix(\n",
    "    alpha_np_80s, window_size_12s,\n",
    "    stride_8s)\n",
    "print('{} : Created Alpha Feature Matrices'.format(datetime.now()))\n",
    "\n",
    "# Create Beta feature matrices\n",
    "print('{} : Creating Beta Feature Matrices'.format(datetime.now()))\n",
    "beta_window_matrix_8s, beta_pcc_matrix_8s, beta_sc_matrix_8s = create_feature_matrix(beta_np_80s, window_size_8s,\n",
    "                                                                                     stride_4s)\n",
    "beta_window_matrix_12s, beta_pcc_matrix_12s, beta_sc_matrix_12s = create_feature_matrix(beta_np_80s, window_size_12s,\n",
    "                                                                                        stride_8s)\n",
    "print('{} : Created Beta Feature Matrices'.format(datetime.now()))\n",
    "\n",
    "# Create Theta feature matrices\n",
    "print('{} : Creating Theta Feature Matrices'.format(datetime.now()))\n",
    "theta_window_matrix_8s, theta_pcc_matrix_8s, theta_sc_matrix_8s = create_feature_matrix(\n",
    "    theta_np_80s, window_size_8s,\n",
    "    stride_4s)\n",
    "theta_window_matrix_12s, theta_pcc_matrix_12s, theta_sc_matrix_12s = create_feature_matrix(\n",
    "    theta_np_80s, window_size_12s,\n",
    "    stride_8s)\n",
    "print('{} : Created Theta Feature Matrices'.format(datetime.now()))\n",
    "\n",
    "# Create Gamma feature matrices\n",
    "print('{} : Creating Gamma Feature Matrices'.format(datetime.now()))\n",
    "gamma_window_matrix_8s, gamma_pcc_matrix_8s, gamma_sc_matrix_8s = create_feature_matrix(\n",
    "    gamma_np_80s, window_size_8s,\n",
    "    stride_4s)\n",
    "gamma_window_matrix_12s, gamma_pcc_matrix_12s, gamma_sc_matrix_12s = create_feature_matrix(\n",
    "    gamma_np_80s, window_size_12s,\n",
    "    stride_8s)\n",
    "print('{} : Created Gamma Feature Matrices'.format(datetime.now()))\n",
    "\n",
    "# Combining the four bands\n",
    "window_matrix_8s = np.stack((alpha_window_matrix_8s, beta_window_matrix_8s, theta_window_matrix_8s,\n",
    "                             gamma_window_matrix_8s), axis=1)\n",
    "window_matrix_12s = np.stack((alpha_window_matrix_12s, beta_window_matrix_12s, theta_window_matrix_12s,\n",
    "                              gamma_window_matrix_12s), axis=1)\n",
    "pcc_matrix_8s = np.stack((alpha_pcc_matrix_8s, beta_pcc_matrix_8s, theta_pcc_matrix_8s, gamma_pcc_matrix_8s), axis=1)\n",
    "pcc_matrix_12s = np.stack((alpha_pcc_matrix_12s, beta_pcc_matrix_12s, theta_pcc_matrix_12s, gamma_pcc_matrix_12s),\n",
    "                          axis=1)\n",
    "\n",
    "sc_matrix_8s = np.stack((alpha_sc_matrix_8s, beta_sc_matrix_8s, theta_sc_matrix_8s, gamma_sc_matrix_8s), axis=1)\n",
    "sc_matrix_12s = np.stack((alpha_sc_matrix_12s, beta_sc_matrix_12s, theta_sc_matrix_12s, gamma_sc_matrix_12s), axis=1)\n"
   ],
   "id": "4b0c5e182583076c",
   "execution_count": null,
   "outputs": []
  },
  {
   "metadata": {},
   "cell_type": "code",
   "source": [
    "#Saving feature matrices\n",
    "save_4d_np_to_csv(window_matrix_8s, 'windows_matrix_8s')\n",
    "save_4d_np_to_csv(window_matrix_12s, 'windows_matrix_12s')\n",
    "save_4d_np_to_csv(pcc_matrix_8s, 'pcc_matrix_8s')\n",
    "save_4d_np_to_csv(pcc_matrix_12s, 'pcc_matrix_12s')\n",
    "save_4d_np_to_csv(sc_matrix_8s, 'sc_matrix_8s')\n",
    "save_4d_np_to_csv(sc_matrix_12s, 'sc_matrix_12s')\n",
    "\n",
    "# Output feature matrix shapes\n",
    "print(\"Window matrix (8s window, 4s stride):\", window_matrix_8s.shape)\n",
    "print(\"window matrix (12s window, 8s stride):\", window_matrix_12s.shape)\n",
    "\n",
    "print(\"PCC Feature matrix (8s window, 4s stride):\", pcc_matrix_8s.shape)\n",
    "print(\"PCC Feature matrix (12s window, 8s stride):\", pcc_matrix_12s.shape)\n",
    "\n",
    "print(\"SC Feature matrix (8s window, 4s stride):\", sc_matrix_8s.shape)\n",
    "print(\"SC Feature matrix (12s window, 8s stride):\", sc_matrix_12s.shape)\n"
   ],
   "id": "c391b86e53d794e6",
   "execution_count": null,
   "outputs": []
  },
  {
   "metadata": {},
   "cell_type": "markdown",
   "source": "### PCA",
   "id": "d9935bc3406fee1d"
  },
  {
   "metadata": {
    "ExecuteTime": {
     "end_time": "2024-10-18T14:18:32.483541Z",
     "start_time": "2024-10-18T14:14:42.407948Z"
    }
   },
   "cell_type": "code",
   "source": [
    "window_matrix_12s = read_csv_to_4d_np('windows_matrix_12s')\n",
    "window_matrix_8s = read_csv_to_4d_np('windows_matrix_8s')\n",
    "\n",
    "def get_pca_features(data):\n",
    "    print('{} : Creating PCA Feature Matrices'.format(datetime.now()))\n",
    "    # We need to reshape data so that time points are processed correctly.\n",
    "    # Let's combine windows, bands, and channels, leaving the temporal dimension intact.\n",
    "\n",
    "    # Flatten segments, bands, and channels together: (segments * bands * channels, datapoints)\n",
    "    reshaped_data = data.reshape(-1, data.shape[3])\n",
    "\n",
    "    # Apply PCA on temporal dimension (2400 datapoints)\n",
    "    n_components_time = 62  # Desired number of components\n",
    "    pca = PCA(n_components=n_components_time)\n",
    "\n",
    "    # Apply PCA\n",
    "    print('{} : Applying PCA ...'.format(datetime.now()))\n",
    "    pca_result = pca.fit_transform(reshaped_data)\n",
    "\n",
    "    # Reshape back to original dimensionality without temporal reduction: (segments, 4, 62, n_components_time)\n",
    "    pca_matrix = pca_result.reshape(data.shape[0], 4, 62, n_components_time)\n",
    "\n",
    "    print('{} : Created PCA Feature Matrices, Shape {}'.format(datetime.now(), pca_matrix.shape))\n",
    "    return pca_matrix\n",
    "pca_matrix_8s = get_pca_features(window_matrix_8s)\n",
    "pca_matrix_12s = get_pca_features(window_matrix_12s)\n",
    "\n",
    "print(\"PCA Feature matrix (8s window, 4s stride):\", pca_matrix_8s.shape)\n",
    "print(\"PCA Feature matrix (12s window, 8s stride):\", pca_matrix_12s.shape)\n",
    "\n",
    "save_4d_np_to_csv(pca_matrix_8s,'pca_matrix_8s')\n",
    "save_4d_np_to_csv(pca_matrix_12s, 'pca_matrix_12s')"
   ],
   "id": "3cd84ebd6e0f8e61",
   "execution_count": 27,
   "outputs": []
  },
  {
   "metadata": {},
   "cell_type": "code",
   "execution_count": null,
   "source": "print(\"********************** {} : FINISHED *********************\".format(datetime.now()))",
   "id": "598690636a335752",
   "outputs": []
  }
 ],
 "metadata": {
  "kernelspec": {
   "display_name": "Python 3",
   "language": "python",
   "name": "python3"
  },
  "language_info": {
   "codemirror_mode": {
    "name": "ipython",
    "version": 2
   },
   "file_extension": ".py",
   "mimetype": "text/x-python",
   "name": "python",
   "nbconvert_exporter": "python",
   "pygments_lexer": "ipython2",
   "version": "2.7.6"
  }
 },
 "nbformat": 4,
 "nbformat_minor": 5
}
